{
 "cells": [
  {
   "cell_type": "markdown",
   "id": "subjective-rider",
   "metadata": {},
   "source": [
    "## <font color=darkBlue> Distribuição Binomial</font>\n",
    "***"
   ]
  },
  {
   "cell_type": "markdown",
   "id": "narrative-words",
   "metadata": {},
   "source": [
    "Um evento **binomial** é caracterizado pela possibilidade de ocorrência de apenas duas categorias. Estas categorias somadas representam todo o espaço amostral, sendo também mutuamente excludentes, ou seja, a ocorrência de uma implica na não ocorrência da outra.\n",
    "\n",
    "Em análises estatísticas o uso mais comum da distribuição binomial é na solução de problemas que envolvem situações de **sucesso** e **fracasso**."
   ]
  },
  {
   "cell_type": "markdown",
   "id": "satellite-seventh",
   "metadata": {},
   "source": [
    "### Exemplos \n",
    "* Jogar uma moeda 10 vezes. Seja X = número de obtido de caras;\n",
    "* Cada amostra de ar tem 10 % de chance de conter uma molécula de rara particular. Seja X = número de amostras de ar que contém a molécula rara nas 18 amostras analisadas;\n",
    "* Nos próximos 20 nascimentos em um hospital, seja X o número de nascimentos de meninas.\n",
    "\n",
    "### Condições de Uso \n",
    "* As tentativas devem ser independentes;\n",
    "* Existem apenas dois resultados possíveis: sucesso e fracasso; \n",
    "* A probabilidade de sucesso é constante em cada tentativa."
   ]
  },
  {
   "cell_type": "markdown",
   "id": "plastic-shepherd",
   "metadata": {},
   "source": [
    "# $$P(k)=\\binom{n}{k} p^k q^{n-k}$$\n",
    "\n",
    "Onde:\n",
    "\n",
    "$p$ = probabilidade de sucesso\n",
    "\n",
    "$q = (1 - p)$ = probabilidade de fracasso\n",
    "\n",
    "$n$ = número de eventos estudados\n",
    "\n",
    "$k$ = número de eventos desejados que tenham sucesso"
   ]
  },
  {
   "cell_type": "markdown",
   "id": "alien-tragedy",
   "metadata": {},
   "source": [
    "https://docs.scipy.org/doc/scipy/reference/generated/scipy.stats.binom.html"
   ]
  },
  {
   "cell_type": "markdown",
   "id": "binding-aaron",
   "metadata": {},
   "source": [
    "### <font color=darkBlue size=5> Exercício 1:</font>\n",
    "Cada amostra de água tem 10 % de chance de conter determinado poluente orgânico. Considere que as amostras sejam independentes com relação a presença de poluente. Encontre a probabilidade de que nas próximas 18 amostras analisadas, exatamente duas contenham o poluente."
   ]
  },
  {
   "cell_type": "markdown",
   "id": "fluid-principle",
   "metadata": {},
   "source": [
    "<font color=darkBlue size=3> (1) Verificar as condições de uso </font>\n",
    "* As tentativas são independentes ? (O fato de possuir poluente em uma amostra não significa que vai ter na outra)\n",
    "* Existem apenas dois resultados possíveis ? (Ou têm poluentes na amostra ou não)\n",
    "* A probabilidade de sucesso é constante ? (sim, 10 %)"
   ]
  },
  {
   "cell_type": "markdown",
   "id": "stainless-breeding",
   "metadata": {},
   "source": [
    "<font color=darkBlue size=3> (2) Definindo as variáveis </font>"
   ]
  },
  {
   "cell_type": "code",
   "execution_count": 1,
   "id": "restricted-motivation",
   "metadata": {},
   "outputs": [
    {
     "name": "stdout",
     "output_type": "stream",
     "text": [
      "Número de eventos estudados (amostras analisdas): 18\n",
      "Probabilidade de sucesso (chance da amostra conter o poluente orgânico): 0.1\n",
      "Número de eventos desejados que tenham sucesso: 2\n"
     ]
    }
   ],
   "source": [
    "from scipy.stats import binom\n",
    "\n",
    "n = 18\n",
    "p = 0.1\n",
    "k = 2\n",
    "\n",
    "print('Número de eventos estudados (amostras analisdas): {}'.format(n))\n",
    "print('Probabilidade de sucesso (chance da amostra conter o poluente orgânico): {}'.format(p))\n",
    "print('Número de eventos desejados que tenham sucesso: {}'.format(k))"
   ]
  },
  {
   "cell_type": "markdown",
   "id": "exotic-exemption",
   "metadata": {},
   "source": [
    "<font color=darkBlue size=3> (3) Aplicação da Fórmula </font>\n",
    "\n",
    "# $$P(k)=\\binom{n}{k} p^k q^{n-k}$$"
   ]
  },
  {
   "cell_type": "code",
   "execution_count": 2,
   "id": "ethical-thumb",
   "metadata": {},
   "outputs": [
    {
     "name": "stdout",
     "output_type": "stream",
     "text": [
      "A probabilidade que das 18 amostras apenas duas tenham o poluente é 0.284\n"
     ]
    }
   ],
   "source": [
    "probabilidade = binom.pmf(k, n, p)\n",
    "print('A probabilidade que das 18 amostras apenas duas tenham o poluente é {0:.3f}'.format(probabilidade))"
   ]
  },
  {
   "cell_type": "markdown",
   "id": "printable-station",
   "metadata": {},
   "source": [
    "### <font color=darkBlue> Exercício 1 (Continuação):</font>\n",
    "Determine a probabilidade de que, no mínimo, quatro amostras contenham o poluente e que o poluente esteja em pelo menos 3 amostras e que esteja em menos de 7 amostras. Por fim, faça um gráfico da distribuição binomial."
   ]
  },
  {
   "cell_type": "code",
   "execution_count": 3,
   "id": "compound-martin",
   "metadata": {},
   "outputs": [
    {
     "name": "stdout",
     "output_type": "stream",
     "text": [
      "A probabilidade que no mínimo 4 amostras contenham o poluente é 0.098\n"
     ]
    }
   ],
   "source": [
    "probabilidade = 1 - binom.cdf(3, n, p)\n",
    "print('A probabilidade que no mínimo 4 amostras contenham o poluente é {0:.3f}'.format(probabilidade))"
   ]
  },
  {
   "cell_type": "code",
   "execution_count": 4,
   "id": "resistant-translator",
   "metadata": {},
   "outputs": [
    {
     "name": "stdout",
     "output_type": "stream",
     "text": [
      "A probabilidade que o  poluente esteja em pelo menos 3 amostras e que esteja em menos de 7 amostras é 0.265\n"
     ]
    }
   ],
   "source": [
    "probabilidade = binom.cdf(6, n, p) - binom.cdf(2, n, p)\n",
    "print('A probabilidade que o  poluente esteja em pelo menos 3 amostras e que esteja em menos de 7 amostras é {0:.3f}'.format(probabilidade))"
   ]
  },
  {
   "cell_type": "code",
   "execution_count": 5,
   "id": "critical-empire",
   "metadata": {},
   "outputs": [
    {
     "data": {
      "image/png": "[encoded data removed]",
      "text/plain": [
       "<Figure size 1080x720 with 1 Axes>"
      ]
     },
     "metadata": {
      "needs_background": "light"
     },
     "output_type": "display_data"
    }
   ],
   "source": [
    "import numpy as np\n",
    "import matplotlib.pyplot as plt\n",
    "\n",
    "n = 18\n",
    "p = 0.1\n",
    "X = np.arange(0, n + 1, 1)\n",
    "X_rotulos = np.arange(0, n + 1, 1)\n",
    "\n",
    "fig, ax = plt.subplots(figsize=(15,10))\n",
    "ax.plot(X, binom.pmf(X, n, p), 'bo', ms=6)\n",
    "\n",
    "ax.set_title(\"Distribuição Binomial - Probabilidade de Sucessos\", fontdict={'fontsize': 'xx-large',\n",
    " 'fontweight' : 500,\n",
    " 'verticalalignment': 'top'}, loc = 'left')\n",
    "\n",
    "\n",
    "ax.set_xticks(range(len(X)))\n",
    "ax.set_ylim(ax.get_ylim()[0]*0.5, ax.get_ylim()[1]+ax.get_ylim()[1]*0.1)\n",
    "ax.set(yticklabels=[])\n",
    "ax.set(xlabel = 'Número de Sucessos')\n",
    "ax.tick_params(left=False)  \n",
    "ax.tick_params(bottom=False)\n",
    "ax.spines['top'].set_visible(False)\n",
    "ax.spines['right'].set_visible(False)\n",
    "ax.spines['left'].set_visible(False)\n",
    "ax.legend(['p = '+str(p)])\n",
    "\n",
    "ax.vlines(X, ax.get_ylim()[0], binom.pmf(X, n, p), colors='blue', linestyles='-', lw=3, alpha=0.5)\n",
    "\n",
    "for x_pos, y_pos in zip(X_rotulos,  binom.pmf(X_rotulos, n, p)):\n",
    "    ax.text(x_pos, y_pos+ax.get_ylim()[1]*0.04, str(y_pos.round(3)), va=\"top\", ha=\"center\", \n",
    "    fontsize=\"large\", fontweight=550, color='k')"
   ]
  },
  {
   "cell_type": "markdown",
   "metadata": {},
   "source": [
    "### <font color=darkBlue size=5> Gráfico de Distribuição Binomial </font>"
   ]
  },
  {
   "cell_type": "code",
   "execution_count": 6,
   "id": "surrounded-healing",
   "metadata": {},
   "outputs": [],
   "source": [
    "import ipywidgets as widgets\n",
    "from IPython.display import display"
   ]
  },
  {
   "cell_type": "code",
   "execution_count": 7,
   "id": "wrong-arcade",
   "metadata": {},
   "outputs": [
    {
     "data": {
      "application/vnd.jupyter.widget-view+json": {
       "model_id": "2744a6176f7147cebc468e640cabbc46",
       "version_major": 2,
       "version_minor": 0
      },
      "text/plain": [
       "interactive(children=(IntSlider(value=18, description='n', max=50, min=1), FloatSlider(value=0.1, description=…"
      ]
     },
     "metadata": {},
     "output_type": "display_data"
    }
   ],
   "source": [
    "@widgets.interact(\n",
    "    n=(1, 50), p=(.0, 1,0.01)\n",
    "    )\n",
    "\n",
    "def plot(n=18, p=0.1):\n",
    "    X = np.arange(0, n + 1, 1)\n",
    "    X_rotulos = np.arange(0, n + 1, 1)\n",
    "\n",
    "    fig, ax = plt.subplots(figsize=(15,10))\n",
    "    ax.plot(X, binom.pmf(X, n, p), 'bo', ms=6)\n",
    "\n",
    "    ax.set_title(\"Distribuição Binomial - Probabilidade de Sucessos\", fontdict={'fontsize': 'xx-large',\n",
    "    'fontweight' : 500,\n",
    "    'verticalalignment': 'top'}, loc = 'left')\n",
    "\n",
    "\n",
    "    ax.set_xticks(range(len(X)))\n",
    "    ax.set_ylim(ax.get_ylim()[0]*0.5, ax.get_ylim()[1]+ax.get_ylim()[1]*0.1)\n",
    "    ax.set(yticklabels=[])\n",
    "    ax.set(xlabel = 'Número de Sucessos')\n",
    "    ax.tick_params(left=False)  \n",
    "    ax.tick_params(bottom=False)\n",
    "    ax.spines['top'].set_visible(False)\n",
    "    ax.spines['right'].set_visible(False)\n",
    "    ax.spines['left'].set_visible(False)\n",
    "    ax.legend(['p = '+str(p)])\n",
    "\n",
    "    ax.vlines(X, ax.get_ylim()[0], binom.pmf(X, n, p), linestyles='-', lw=3, alpha=0.5)\n",
    "\n",
    "    for x_pos, y_pos in zip(X_rotulos,  binom.pmf(X_rotulos, n, p)):\n",
    "        ax.text(x_pos, y_pos+ax.get_ylim()[1]*0.04, str(y_pos.round(3)), va=\"top\", ha=\"center\", \n",
    "        fontsize=\"large\", fontweight=550)"
   ]
  },
  {
   "cell_type": "code",
   "execution_count": null,
   "metadata": {},
   "outputs": [],
   "source": []
  },
  {
   "cell_type": "markdown",
   "metadata": {},
   "source": []
  }
 ],
 "metadata": {
  "interpreter": {
   "hash": "c9c95a542e0787f57613780817cff22e65fe979e702b6d9a424a45d54043f1a4"
  },
  "kernelspec": {
   "display_name": "Python 3.8.8 64-bit ('base': conda)",
   "name": "python3"
  },
  "language_info": {
   "codemirror_mode": {
    "name": "ipython",
    "version": 3
   },
   "file_extension": ".py",
   "mimetype": "text/x-python",
   "name": "python",
   "nbconvert_exporter": "python",
   "pygments_lexer": "ipython3",
   "version": "3.8.8"
  }
 },
 "nbformat": 4,
 "nbformat_minor": 5
}
